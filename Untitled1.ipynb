{
 "cells": [
  {
   "cell_type": "code",
   "execution_count": 1,
   "metadata": {},
   "outputs": [
    {
     "name": "stdout",
     "output_type": "stream",
     "text": [
      "(6+7j)\n"
     ]
    }
   ],
   "source": [
    "a= 11+10j\n",
    "b= 5+3j\n",
    "c=(a-b)\n",
    "print(c)"
   ]
  },
  {
   "cell_type": "code",
   "execution_count": 2,
   "metadata": {},
   "outputs": [
    {
     "name": "stdout",
     "output_type": "stream",
     "text": [
      "(16+13j)\n"
     ]
    }
   ],
   "source": [
    "a= 11+10j\n",
    "b= 5+3j\n",
    "c=(a+b)\n",
    "print(c)"
   ]
  },
  {
   "cell_type": "code",
   "execution_count": 3,
   "metadata": {},
   "outputs": [
    {
     "name": "stdout",
     "output_type": "stream",
     "text": [
      "(25+83j)\n"
     ]
    }
   ],
   "source": [
    "a= 11+10j\n",
    "b= 5+3j\n",
    "c=(a*b)\n",
    "print(c)"
   ]
  },
  {
   "cell_type": "code",
   "execution_count": 4,
   "metadata": {},
   "outputs": [
    {
     "name": "stdout",
     "output_type": "stream",
     "text": [
      "(2.5+0.5000000000000001j)\n"
     ]
    }
   ],
   "source": [
    "a= 11+10j\n",
    "b= 5+3j\n",
    "c=(a/b)\n",
    "print(c)"
   ]
  },
  {
   "cell_type": "code",
   "execution_count": 10,
   "metadata": {},
   "outputs": [
    {
     "name": "stdout",
     "output_type": "stream",
     "text": [
      "1\n"
     ]
    }
   ],
   "source": [
    "a= 11\n",
    "c=(a%2)\n",
    "print(c)"
   ]
  },
  {
   "cell_type": "code",
   "execution_count": 42,
   "metadata": {},
   "outputs": [
    {
     "name": "stdout",
     "output_type": "stream",
     "text": [
      "0\n",
      "1\n",
      "2\n",
      "3\n",
      "4\n",
      "5\n"
     ]
    }
   ],
   "source": [
    "x = range(6)\n",
    "for n in x:\n",
    "  print(n)"
   ]
  },
  {
   "cell_type": "code",
   "execution_count": 43,
   "metadata": {},
   "outputs": [
    {
     "name": "stdout",
     "output_type": "stream",
     "text": [
      "3\n",
      "4\n",
      "5\n"
     ]
    }
   ],
   "source": [
    "x = range(3, 6)\n",
    "for n in x:\n",
    "  print(n)"
   ]
  },
  {
   "cell_type": "code",
   "execution_count": 44,
   "metadata": {},
   "outputs": [
    {
     "name": "stdout",
     "output_type": "stream",
     "text": [
      "3\n",
      "5\n",
      "7\n",
      "9\n",
      "11\n",
      "13\n",
      "15\n",
      "17\n",
      "19\n"
     ]
    }
   ],
   "source": [
    "x = range(3, 20, 2)\n",
    "for n in x:\n",
    "  print(n)"
   ]
  },
  {
   "cell_type": "code",
   "execution_count": 46,
   "metadata": {
    "scrolled": true
   },
   "outputs": [
    {
     "name": "stdout",
     "output_type": "stream",
     "text": [
      "2\n",
      "7\n",
      "12\n",
      "17\n"
     ]
    }
   ],
   "source": [
    "x = range(2, 20, 5)\n",
    "for n in x:\n",
    "  print(n)"
   ]
  },
  {
   "cell_type": "code",
   "execution_count": 62,
   "metadata": {},
   "outputs": [
    {
     "name": "stdout",
     "output_type": "stream",
     "text": [
      "400\n"
     ]
    }
   ],
   "source": [
    "a = 40\n",
    "b =10\n",
    "c= (a-b)\n",
    "\n",
    "if c >25:\n",
    "    d=a*b\n",
    "    print(d)\n",
    "else:\n",
    "    e=a/b\n",
    "    print(e)"
   ]
  },
  {
   "cell_type": "code",
   "execution_count": 104,
   "metadata": {},
   "outputs": [
    {
     "name": "stdout",
     "output_type": "stream",
     "text": [
      "Number which are divisible are 4\n",
      "Final result is - square of that number minus 2 14\n",
      "Number which are divisible are 6\n",
      "Final result is - square of that number minus 2 34\n",
      "Number which are divisible are 40\n",
      "Final result is - square of that number minus 2 1598\n",
      "Number which are divisible are 50\n",
      "Final result is - square of that number minus 2 2498\n",
      "Number which are divisible are 60\n",
      "Final result is - square of that number minus 2 3598\n",
      "Number which are divisible are 80\n",
      "Final result is - square of that number minus 2 6398\n",
      "Number which are divisible are 100\n",
      "Final result is - square of that number minus 2 9998\n"
     ]
    }
   ],
   "source": [
    "l= [4,19,6,37,40,50,57,60,80,100]\n",
    "for i in l:\n",
    "    if i%2==0:\n",
    "        \n",
    "       print(\"Number which are divisible are\" ,i)\n",
    "       print(\"Final result is - square of that number minus 2\", i**2-2)"
   ]
  },
  {
   "cell_type": "code",
   "execution_count": 108,
   "metadata": {},
   "outputs": [
    {
     "name": "stdout",
     "output_type": "stream",
     "text": [
      "Number greater then 7 & Divisible by 2 14\n",
      "Number greater then 7 & Divisible by 2 40\n",
      "Number greater then 7 & Divisible by 2 50\n",
      "Number greater then 7 & Divisible by 2 60\n",
      "Number greater then 7 & Divisible by 2 80\n",
      "Number greater then 7 & Divisible by 2 100\n"
     ]
    }
   ],
   "source": [
    "l= [4,19,6,14,40,50,57,60,80,100]\n",
    "for i in l:\n",
    "    if i%2==0 and i>7:\n",
    "       print(\"Number greater then 7 & Divisible by 2\", i)"
   ]
  }
 ],
 "metadata": {
  "kernelspec": {
   "display_name": "Python 3",
   "language": "python",
   "name": "python3"
  },
  "language_info": {
   "codemirror_mode": {
    "name": "ipython",
    "version": 3
   },
   "file_extension": ".py",
   "mimetype": "text/x-python",
   "name": "python",
   "nbconvert_exporter": "python",
   "pygments_lexer": "ipython3",
   "version": "3.7.6"
  }
 },
 "nbformat": 4,
 "nbformat_minor": 4
}
