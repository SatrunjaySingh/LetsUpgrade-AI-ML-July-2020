{
 "cells": [
  {
   "cell_type": "code",
   "execution_count": null,
   "metadata": {},
   "outputs": [],
   "source": []
  },
  {
   "cell_type": "code",
   "execution_count": 29,
   "metadata": {},
   "outputs": [
    {
     "name": "stdout",
     "output_type": "stream",
     "text": [
      "company  :  bofa\n"
     ]
    }
   ],
   "source": [
    "def email_splitter(email):\n",
    "\n",
    "    company = email.split('@')[1]\n",
    "    company_name = company.split('.')[0]\n",
    "    print('company  : ', company_name)\n",
    "   \n",
    "\n",
    "email_splitter('satrunjay.singh@bofa.com')"
   ]
  },
  {
   "cell_type": "code",
   "execution_count": 3,
   "metadata": {},
   "outputs": [
    {
     "name": "stdout",
     "output_type": "stream",
     "text": [
      "without,hello,bag,world\n",
      "bag,hello,without,world\n"
     ]
    }
   ],
   "source": [
    "y=input()\n",
    "y=y.split(\",\")\n",
    "y=sorted(y)\n",
    "print(\",\".join(y))"
   ]
  },
  {
   "cell_type": "code",
   "execution_count": 13,
   "metadata": {},
   "outputs": [
    {
     "name": "stdout",
     "output_type": "stream",
     "text": [
      "tennis\n",
      "football\n",
      "cricket\n",
      "basketball\n",
      "badminton\n"
     ]
    }
   ],
   "source": [
    "thisset = {\"cricket\", \"football\", \"basketball\",\"tennis\",\"badminton\"}\n",
    "\n",
    "for x in thisset:\n",
    "  print(x)"
   ]
  },
  {
   "cell_type": "code",
   "execution_count": 12,
   "metadata": {},
   "outputs": [
    {
     "name": "stdout",
     "output_type": "stream",
     "text": [
      "5.0\n"
     ]
    }
   ],
   "source": [
    "def getMissingNo(A): \n",
    "    n = len(A) \n",
    "    total = (n + 1)*(n + 2)/2\n",
    "    sum_of_A = sum(A) \n",
    "    return total - sum_of_A \n",
    "\n",
    "A = [1,2,4,3,7,8,6] \n",
    "miss = getMissingNo(A) \n",
    "print(miss)"
   ]
  },
  {
   "cell_type": "code",
   "execution_count": 11,
   "metadata": {},
   "outputs": [
    {
     "name": "stdout",
     "output_type": "stream",
     "text": [
      "The original list is : [12, 24, 35, 24, 88, 120, 155, 88, 120, 155]\n",
      "The list after removing duplicates : [12, 24, 35, 88, 120, 155]\n"
     ]
    }
   ],
   "source": [
    "test_list = [12,24,35,24,88,120,155,88,120,155] \n",
    "print (\"The original list is : \" +  str(test_list)) \n",
    "\n",
    "res = [] \n",
    "for i in test_list: \n",
    "    if i not in res: \n",
    "        res.append(i) \n",
    "  \n",
    "\n",
    "print (\"The list after removing duplicates : \" + str(res)) "
   ]
  }
 ],
 "metadata": {
  "kernelspec": {
   "display_name": "Python 3",
   "language": "python",
   "name": "python3"
  },
  "language_info": {
   "codemirror_mode": {
    "name": "ipython",
    "version": 3
   },
   "file_extension": ".py",
   "mimetype": "text/x-python",
   "name": "python",
   "nbconvert_exporter": "python",
   "pygments_lexer": "ipython3",
   "version": "3.7.6"
  }
 },
 "nbformat": 4,
 "nbformat_minor": 4
}
